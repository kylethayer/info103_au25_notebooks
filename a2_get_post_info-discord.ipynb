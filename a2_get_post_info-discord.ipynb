{
 "cells": [
  {
   "cell_type": "markdown",
   "id": "faf79779-95ad-498f-8c19-9a6766d205a4",
   "metadata": {},
   "source": [
    "# A2: Get Info About Discord Posts"
   ]
  },
  {
   "cell_type": "markdown",
   "id": "60870765-9ee5-4f37-9ceb-a2e45f090e07",
   "metadata": {},
   "source": [
    "In this assignment, you will modify this program that displays information about a list of posts. You will change what posts the code finds. Then you will answer some reflection questions on your bot.\n",
    "\n",
    "When you are done, you will need to download the pdf (or html) version of this file (file menu -> save and export notebook as -> pdf) and turn it in on Canvas."
   ]
  },
  {
   "cell_type": "markdown",
   "id": "086be723-f3be-42bf-8ada-ba7f88718d5e",
   "metadata": {},
   "source": [
    "## Finding Posts\n",
    "We will be running code that finds a list of posts from a discord channel.\n"
   ]
  },
  {
   "cell_type": "markdown",
   "id": "4cb96ef3-8f5e-420e-9273-9010e89dce0e",
   "metadata": {},
   "source": [
    "### load \"discord\" and nest_asyncio libraries"
   ]
  },
  {
   "cell_type": "code",
   "execution_count": null,
   "id": "01b1b258-c3b7-48b5-9576-0b5012e2592f",
   "metadata": {},
   "outputs": [],
   "source": [
    "# Load some code called \"discord\" that will help us work with Discord\n",
    "import discord\n",
    "\n",
    "# Load another library that helps the bot work in Jupyter Noteboook\n",
    "import nest_asyncio\n",
    "nest_asyncio.apply()"
   ]
  },
  {
   "cell_type": "markdown",
   "id": "9cc3a006-f750-4636-b48b-49fcfed023d1",
   "metadata": {},
   "source": [
    "### (optional) make a fake Discord connection with the fake_discord library\n",
    "For testing purposes, we've added this line of code, which loads a fake version of Discord, so it wont actually connect to Discord. __If you want to try to actually connect to Discord, don't run this line of code.__"
   ]
  },
  {
   "cell_type": "code",
   "execution_count": null,
   "id": "a42161a4-3102-4517-afba-3e64a02d85f0",
   "metadata": {},
   "outputs": [],
   "source": [
    "%run fake_apis/fake_discord.ipynb"
   ]
  },
  {
   "cell_type": "markdown",
   "id": "adbe69cf-a3b0-43a7-acb6-19f7e7eb5945",
   "metadata": {},
   "source": [
    "###  set up your Discord connection\n",
    "To use this on your real Discord account, copy your [discord token](../../appendix/making_bot_account.md) into the code below, replacing our fake passwords."
   ]
  },
  {
   "cell_type": "code",
   "execution_count": null,
   "id": "46e18dcd-e58f-4083-b1c2-55ece3b0c3be",
   "metadata": {},
   "outputs": [],
   "source": [
    "%run discord_keys.py"
   ]
  },
  {
   "cell_type": "markdown",
   "id": "80f48f9d-30f4-47e5-bf2f-ff4bb66b02a1",
   "metadata": {},
   "source": [
    "### find a list of discord posts\n",
    "We can now make a bot that loads a list of discord posts.\n",
    "\n",
    "_Note: If you run this on real discord, we can’t gurantee anything about how offensive what you might find is._"
   ]
  },
  {
   "cell_type": "code",
   "execution_count": null,
   "id": "9f945e19-4e7d-4626-a468-de8af347355f",
   "metadata": {},
   "outputs": [],
   "source": [
    "# set up discord connection\n",
    "client = discord.Client(intents=discord.Intents.default())\n",
    "\n",
    "# TODO: put the discord channel id number below for the channel you want to use\n",
    "channel_id = 123456789\n",
    "\n",
    "# Provide instructions for what your discord bot should do once it has logged in\n",
    "@client.event\n",
    "async def on_ready():\n",
    "    global recent_posts # Save the recent_posts variable outside our running bot\n",
    "    \n",
    "    # Load the discord channel you want to post to\n",
    "    channel = client.get_channel(channel_id)\n",
    "\n",
    "    # Get the latest post in the channel history\n",
    "    post_history = channel.history(limit=10)\n",
    "    \n",
    "    #special code to turn the post_history from discord into a python list\n",
    "    recent_posts = [post async for post in post_history]\n",
    "\n",
    "    # Tell your bot to stop running\n",
    "    await client.close()\n",
    "    \n",
    "# Now that we've defined how the bot should work, start running your bot\n",
    "client.run(discord_token)"
   ]
  },
  {
   "cell_type": "markdown",
   "id": "7b487d9c-2741-4042-8756-702358f4db1c",
   "metadata": {},
   "source": [
    "## Loop through the list of posts\n",
    "The variable `recent_posts` now has a list of Discord posts. So we can use a for loop to go through each submission, and then use `.` to access info from each post (other pieces of information would need `[\" \"]` to access).\n",
    "\n",
    "For each of the posts, we will use `print` to display information about the post"
   ]
  },
  {
   "cell_type": "code",
   "execution_count": null,
   "id": "f5817cce-16b5-48e6-8a40-c90c0ab4079c",
   "metadata": {},
   "outputs": [],
   "source": [
    "for post in recent_posts:\n",
    "    print(\"Info for post with id: \" + str(post.id))\n",
    "    print(\"  content: \" + str(post.content))\n",
    "    print(\"  author display name: \" + str(post.author.display_name))\n",
    "    print(\"  author id: \" + str(post.author.id))\n",
    "    print(\"  created at: \" + str(post.created_at))\n",
    "    print(\"  reactions: \" + str(post.reactions))\n",
    "    print(\"  is pinned?: \" + str(post.pinned))\n",
    "    print()"
   ]
  },
  {
   "cell_type": "markdown",
   "id": "6bc69cc4-e6a1-440d-a06e-45f929df161e",
   "metadata": {},
   "source": [
    "## Reflection Questions"
   ]
  },
  {
   "cell_type": "markdown",
   "id": "cc67418b-ee47-484f-b479-aaab043d9f0e",
   "metadata": {},
   "source": [
    "You must also write answers to the following questions \n",
    "\n",
    "_Note: You can double click on these blocks of text to edit them_"
   ]
  },
  {
   "cell_type": "markdown",
   "id": "6717befa-cbb9-4518-bbd9-d6f82267cd43",
   "metadata": {},
   "source": [
    "What similarities and differences did you notice in trying between this and the other social media platform you connected a bot to? (e.g., what was the process like? Was it easier or more difficult?). If you run into errors that prevent you from finding posts, please tell us about it."
   ]
  },
  {
   "cell_type": "markdown",
   "id": "88fba083-d8b2-4c43-9356-03902020d3d9",
   "metadata": {},
   "source": [
    "TODO: Write Answer here"
   ]
  },
  {
   "cell_type": "markdown",
   "id": "b7443b32-27d7-4679-8e1c-21d509555ee2",
   "metadata": {},
   "source": [
    "How did you change the code that finds posts?"
   ]
  },
  {
   "cell_type": "markdown",
   "id": "c55fb1e3-3db2-4e1d-9073-18072662a440",
   "metadata": {},
   "source": [
    "TODO: Write Answer here"
   ]
  },
  {
   "cell_type": "markdown",
   "id": "843d392a-1d0e-44ed-bcdb-11e5e074777d",
   "metadata": {},
   "source": [
    "How do you feel about the potential of having your social media posts scraped by a bot like this one?"
   ]
  },
  {
   "cell_type": "markdown",
   "id": "e2812654-11a3-4b0a-9885-4bec612832ae",
   "metadata": {},
   "source": [
    "TODO: Write answer here"
   ]
  }
 ],
 "metadata": {
  "kernelspec": {
   "display_name": "Python 3 (ipykernel)",
   "language": "python",
   "name": "python3"
  },
  "language_info": {
   "codemirror_mode": {
    "name": "ipython",
    "version": 3
   },
   "file_extension": ".py",
   "mimetype": "text/x-python",
   "name": "python",
   "nbconvert_exporter": "python",
   "pygments_lexer": "ipython3",
   "version": "3.12.5"
  },
  "vscode": {
   "interpreter": {
    "hash": "369f2c481f4da34e4445cda3fffd2e751bd1c4d706f27375911949ba6bb62e1c"
   }
  }
 },
 "nbformat": 4,
 "nbformat_minor": 5
}
