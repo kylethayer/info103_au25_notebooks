{
 "cells": [
  {
   "cell_type": "markdown",
   "id": "faf79779-95ad-498f-8c19-9a6766d205a4",
   "metadata": {},
   "source": [
    "# A2: Get Info About Reddit Posts"
   ]
  },
  {
   "cell_type": "markdown",
   "id": "4b2c8d31-6f52-4b14-a1b7-fbd35e53730e",
   "metadata": {},
   "source": [
    "In this assignment, you will modify this program that displays information about a list of posts. You will change what posts the code finds. Then you will answer some reflection questions on your bot.\n",
    "\n",
    "When you are done, you will need to download the pdf (or html) version of this file (file menu -> save and export notebook as -> pdf) and turn it in on Canvas."
   ]
  },
  {
   "cell_type": "markdown",
   "id": "086be723-f3be-42bf-8ada-ba7f88718d5e",
   "metadata": {},
   "source": [
    "## Finding Posts\n",
    "We will be running code that finds a list of posts from subreddit.\n"
   ]
  },
  {
   "cell_type": "markdown",
   "id": "4cb96ef3-8f5e-420e-9273-9010e89dce0e",
   "metadata": {},
   "source": [
    "### load praw library"
   ]
  },
  {
   "cell_type": "code",
   "execution_count": null,
   "id": "01b1b258-c3b7-48b5-9576-0b5012e2592f",
   "metadata": {},
   "outputs": [],
   "source": [
    "# Load some code called \"praw\" that will help us work with reddit\n",
    "import praw"
   ]
  },
  {
   "cell_type": "markdown",
   "id": "9cc3a006-f750-4636-b48b-49fcfed023d1",
   "metadata": {},
   "source": [
    "### (Optional) make a fake praw connection with the fake_praw library\n",
    "For testing purposes, we've added this line of code, which loads a fake version of praw, so it wont actually connect to reddit. __If you want to try to actually connect to reddit, don't run this line of code.__"
   ]
  },
  {
   "cell_type": "code",
   "execution_count": null,
   "id": "a42161a4-3102-4517-afba-3e64a02d85f0",
   "metadata": {},
   "outputs": [],
   "source": [
    "%run fake_apis/fake_praw.ipynb"
   ]
  },
  {
   "cell_type": "markdown",
   "id": "adbe69cf-a3b0-43a7-acb6-19f7e7eb5945",
   "metadata": {},
   "source": [
    "### load your developer access passwords\n",
    "So, to use this on your real Reddit account, copy your [developer access passwords](https://social-media-ethics-automation.github.io/book/reddit/appendix/making_bot_account.html) into the `reddit_keys.py` file."
   ]
  },
  {
   "cell_type": "code",
   "execution_count": null,
   "id": "46e18dcd-e58f-4083-b1c2-55ece3b0c3be",
   "metadata": {},
   "outputs": [],
   "source": [
    "%run reddit_keys.py"
   ]
  },
  {
   "cell_type": "markdown",
   "id": "dafb7221-0c46-4499-8c63-db191d5163ef",
   "metadata": {},
   "source": [
    "### give praw (or fake_praw) your developer access passwords"
   ]
  },
  {
   "cell_type": "code",
   "execution_count": null,
   "id": "cbe7a923-fc70-4b2e-a541-5dd5119309c2",
   "metadata": {},
   "outputs": [],
   "source": [
    "# Give the praw code your reddit account info so\n",
    "# it can perform reddit actions\n",
    "reddit = praw.Reddit(\n",
    "    username=username, password=password,\n",
    "    client_id=client_id, client_secret=client_secret,\n",
    "    user_agent=\"a custom python script for user /\" + str(username)\n",
    ")"
   ]
  },
  {
   "cell_type": "markdown",
   "id": "80f48f9d-30f4-47e5-bf2f-ff4bb66b02a1",
   "metadata": {},
   "source": [
    "### find a list of submissions\n",
    "We can now do a search and find a list of submissions.\n",
    "\n",
    "_Note: If you run this on real reddit, we can’t gurantee anything about how offensive what you might find is._"
   ]
  },
  {
   "cell_type": "code",
   "execution_count": null,
   "id": "9f945e19-4e7d-4626-a468-de8af347355f",
   "metadata": {},
   "outputs": [],
   "source": [
    "# Look up the subreddit \"cuteanimals\", then find the \"hot\" list, getting up to 10 submission\n",
    "submissions = reddit.subreddit(\"cuteanimals\").hot(limit=10)\n",
    "\n",
    "# Note: The submissions come back from Reddit as an\n",
    "# \"iterator\" instead of a \"list.\" We can write our\n",
    "# normal for loops with it as an iterator, but we will\n",
    "# turn it into a list, since we are using those in this class\n",
    "\n",
    "submissions_list = list(submissions)"
   ]
  },
  {
   "cell_type": "markdown",
   "id": "7b487d9c-2741-4042-8756-702358f4db1c",
   "metadata": {},
   "source": [
    "## Loop through the list of submissions\n",
    "The variable `submissions_list` now has a list of Reddit submissions. So we can use a for loop to go through each submission, and then use `.` to access info from each submission (other pieces of information would need `[\" \"]` to access).\n",
    "\n",
    "For each of the submissions, we will use `print` to display information about the post"
   ]
  },
  {
   "cell_type": "code",
   "execution_count": null,
   "id": "f5817cce-16b5-48e6-8a40-c90c0ab4079c",
   "metadata": {},
   "outputs": [],
   "source": [
    "for submission in submissions_list:\n",
    "    print(\"Info for submission with id: \" + str(submission.id))\n",
    "    print(\"  title: \" + str(submission.title))\n",
    "    print(\"  author: \" + str(submission.author))\n",
    "    print(\"  created_utc: \" + str(submission.created_utc))\n",
    "    print(\"  selftext: \" + str(submission.selftext))\n",
    "    print(\"  url: \" + str(submission.url))\n",
    "    print(\"  score (upvotes): \" + str(submission.score))\n",
    "    print()"
   ]
  },
  {
   "cell_type": "markdown",
   "id": "c34c6727-4c3d-4d0d-ac64-95770602a531",
   "metadata": {},
   "source": [
    "## Reflection Questions"
   ]
  },
  {
   "cell_type": "markdown",
   "id": "e0231fa5-7190-4af4-8fe2-04b48fe29767",
   "metadata": {},
   "source": [
    "You must also write answers to the following questions \n",
    "\n",
    "_Note: You can double click on these blocks of text to edit them_"
   ]
  },
  {
   "cell_type": "markdown",
   "id": "0c518c93-ea14-4bc7-90d9-52527fc2fade",
   "metadata": {},
   "source": [
    "What similarities and differences did you notice in trying between this and the other social media platform you connected a bot to? (e.g., what was the process like? Was it easier or more difficult?)"
   ]
  },
  {
   "cell_type": "markdown",
   "id": "dc1a3cd8-ca12-4b88-9589-648ef262a54a",
   "metadata": {},
   "source": [
    "TODO: Write Answer here"
   ]
  },
  {
   "cell_type": "markdown",
   "id": "2787bc11-e897-49f0-9987-1bc7efbdf172",
   "metadata": {},
   "source": [
    "How did you change the code that finds posts?"
   ]
  },
  {
   "cell_type": "markdown",
   "id": "14fc4739-9e90-47b3-bc1a-dc858c7f77da",
   "metadata": {},
   "source": [
    "TODO: Write Answer here"
   ]
  },
  {
   "cell_type": "markdown",
   "id": "57a5afcb-63ab-49a5-ae4d-2c450fd066e0",
   "metadata": {},
   "source": [
    "How do you feel about the potential of having your social media posts scraped by a bot like this one?"
   ]
  },
  {
   "cell_type": "markdown",
   "id": "56190e7e-4df3-4a8c-8e71-d388b05b0bf1",
   "metadata": {},
   "source": [
    "TODO: Write answer here"
   ]
  }
 ],
 "metadata": {
  "kernelspec": {
   "display_name": "Python 3 (ipykernel)",
   "language": "python",
   "name": "python3"
  },
  "language_info": {
   "codemirror_mode": {
    "name": "ipython",
    "version": 3
   },
   "file_extension": ".py",
   "mimetype": "text/x-python",
   "name": "python",
   "nbconvert_exporter": "python",
   "pygments_lexer": "ipython3",
   "version": "3.12.5"
  },
  "vscode": {
   "interpreter": {
    "hash": "369f2c481f4da34e4445cda3fffd2e751bd1c4d706f27375911949ba6bb62e1c"
   }
  }
 },
 "nbformat": 4,
 "nbformat_minor": 5
}
