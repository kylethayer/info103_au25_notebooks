{
 "cells": [
  {
   "cell_type": "markdown",
   "id": "faf79779-95ad-498f-8c19-9a6766d205a4",
   "metadata": {},
   "source": [
    "# A2: Get Info About Bluesky Posts"
   ]
  },
  {
   "cell_type": "markdown",
   "id": "52e8b03f-3fe2-48be-a7c3-b0d7f431165e",
   "metadata": {},
   "source": [
    "In this assignment, you will modify this program that displays information about a list of posts. You will change what posts the code finds. Then you will answer some reflection questions on your bot.\n",
    "\n",
    "When you are done, you will need to download the pdf (or html) version of this file (file menu -> save and export notebook as -> pdf) and turn it in on Canvas."
   ]
  },
  {
   "cell_type": "markdown",
   "id": "086be723-f3be-42bf-8ada-ba7f88718d5e",
   "metadata": {},
   "source": [
    "## Finding Posts\n",
    "We will be running a search to find a list of posts from Bluesky.\n",
    "\n",
    "But first, we need our helper functions for converting Bluesky feed weblink urls and atproto uris:\n",
    "\n",
    "### helper function for atproto links\n",
    "_NOTE: You don't need to worry about the details of how this works, it just is here to make the code later easier to use._"
   ]
  },
  {
   "cell_type": "code",
   "execution_count": null,
   "id": "0fa25bcc-5317-4ff7-9419-060f0a1321fd",
   "metadata": {},
   "outputs": [],
   "source": [
    "import re #load a \"regular expression\" library for helping to parse text\n",
    "\n",
    "# function to convert a post's special atproto \"at\" URI to a weblink url\n",
    "def get_weblink_from_post(post):\n",
    "    # Get the user id and post id from the weblink url\n",
    "    match = re.search(r'at://([^/]+)/app.bsky.feed.post/([^/]+)', post.uri)\n",
    "    if not match:\n",
    "        raise ValueError(\"Invalid Bluesky atproto post URL format.\")\n",
    "    user_id, post_id = match.groups()\n",
    "\n",
    "    post_uri = f\"https://bsky.app/profile/{user_id}/post/{post_id}\"\n",
    "    return post_uri"
   ]
  },
  {
   "cell_type": "markdown",
   "id": "4cb96ef3-8f5e-420e-9273-9010e89dce0e",
   "metadata": {},
   "source": [
    "Now we can continue logging in to Bluesky and look through multiple posts.\n",
    "### load atproto library"
   ]
  },
  {
   "cell_type": "code",
   "execution_count": null,
   "id": "01b1b258-c3b7-48b5-9576-0b5012e2592f",
   "metadata": {},
   "outputs": [],
   "source": [
    "# Load some code called \"Client\" from the \"atproto\" library that will help us work with Bluesky\n",
    "from atproto import Client"
   ]
  },
  {
   "cell_type": "markdown",
   "id": "9cc3a006-f750-4636-b48b-49fcfed023d1",
   "metadata": {},
   "source": [
    "### (optional) make a fake Bluesky connection with the fake_atproto library\n",
    "For testing purposes, we\"ve added this line of code, which loads a fake version of atproto, so it wont actually connect to Bluesky. __If you want to try to actually connect to Bluesky, don't run this line of code.__"
   ]
  },
  {
   "cell_type": "code",
   "execution_count": null,
   "id": "a42161a4-3102-4517-afba-3e64a02d85f0",
   "metadata": {},
   "outputs": [],
   "source": [
    "%run fake_apis/fake_atproto.ipynb"
   ]
  },
  {
   "cell_type": "markdown",
   "id": "adbe69cf-a3b0-43a7-acb6-19f7e7eb5945",
   "metadata": {},
   "source": [
    "### login to Bluesky"
   ]
  },
  {
   "cell_type": "code",
   "execution_count": null,
   "id": "46e18dcd-e58f-4083-b1c2-55ece3b0c3be",
   "metadata": {},
   "outputs": [],
   "source": [
    "# Login to Bluesky\n",
    "# TODO: Put your bluesky account info in the bluesky_keys.py file\n",
    "%run bluesky_keys.py\n",
    "\n",
    "client = Client(base_url=\"https://bsky.social\")\n",
    "client.login(handle, password)"
   ]
  },
  {
   "cell_type": "markdown",
   "id": "80f48f9d-30f4-47e5-bf2f-ff4bb66b02a1",
   "metadata": {},
   "source": [
    "## TODO: Modify this search to find posts\n",
    "We can now load a feed and find a list of posts.\n",
    "\n",
    "__Modify the search to see what you find__\n",
    "\n",
    "_Note: If you run this on real Bluesky, we can’t gurantee anything about how offensive what you might find is._"
   ]
  },
  {
   "cell_type": "code",
   "execution_count": null,
   "id": "9f945e19-4e7d-4626-a468-de8af347355f",
   "metadata": {},
   "outputs": [],
   "source": [
    "# Save what we want to search for in a variable\n",
    "# TODO: Update the search term\n",
    "search_query = \"scientists\"\n",
    "\n",
    "# run the search and save the resulting list in a variable\n",
    "search_result_posts = client.app.bsky.feed.search_posts({'q': search_query}).posts"
   ]
  },
  {
   "cell_type": "markdown",
   "id": "7b487d9c-2741-4042-8756-702358f4db1c",
   "metadata": {},
   "source": [
    "## Loop through the list of posts\n",
    "The variable `search_result_posts` now has a list of Bluesky posts. So we can use a for loop to go through each post, and then use `.` to access info from each post (other pieces of information might need `[\" \"]` to access).\n",
    "\n",
    "For each of the posts, we will use `print` to display information about the post"
   ]
  },
  {
   "cell_type": "code",
   "execution_count": null,
   "id": "f5817cce-16b5-48e6-8a40-c90c0ab4079c",
   "metadata": {},
   "outputs": [],
   "source": [
    "for post in search_result_posts:\n",
    "    print(\"Info for submission with cid: \" + str(post.cid))\n",
    "    print(\"  author handle: \" + str(post.author.handle))\n",
    "    print(\"  text: \" + str(post.record.text))\n",
    "    print(\"  created at: \" + str(post.record.created_at))\n",
    "    print(\"  number of likes: \" + str(post.like_count))\n",
    "    print(\"  number of replies: \" + str(post.reply_count))\n",
    "    print(\"  number of reposts: \" + str(post.repost_count))\n",
    "    print(\"  url: \" + str(get_weblink_from_post(post)))\n",
    "    print()"
   ]
  },
  {
   "cell_type": "markdown",
   "id": "cd1061ec-7e0d-4f5e-b2f1-fb471d81ff9f",
   "metadata": {},
   "source": [
    "## Reflection Questions"
   ]
  },
  {
   "cell_type": "markdown",
   "id": "488aec36-e67f-476a-8c7e-eb36ac453147",
   "metadata": {},
   "source": [
    "You must also write answers to the following questions \n",
    "\n",
    "_Note: You can double click on these blocks of text to edit them_"
   ]
  },
  {
   "cell_type": "markdown",
   "id": "d7eccaa0-a392-40a3-af7b-64da3c4b2c30",
   "metadata": {},
   "source": [
    "What similarities and differences did you notice in trying between this and the other social media platform you connected a bot to? (e.g., what was the process like? Was it easier or more difficult?). If you run into errors that prevent you from finding posts, please tell us about it."
   ]
  },
  {
   "cell_type": "markdown",
   "id": "4205f685-1ac5-4656-b641-f28a3ce9e8b3",
   "metadata": {},
   "source": [
    "TODO: Write Answer here"
   ]
  },
  {
   "cell_type": "markdown",
   "id": "d26b3f0c-1b4b-49e0-9fed-0e346b2cee5f",
   "metadata": {},
   "source": [
    "How did you change the code that finds posts?"
   ]
  },
  {
   "cell_type": "markdown",
   "id": "bfda0c12-d0fb-4d5b-9333-e73c27d01197",
   "metadata": {},
   "source": [
    "TODO: Write Answer here"
   ]
  },
  {
   "cell_type": "markdown",
   "id": "d0b95d5e-33ea-4e9b-95c1-fa7ee1361c0f",
   "metadata": {},
   "source": [
    "How do you feel about the potential of having your social media posts scraped by a bot like this one?"
   ]
  },
  {
   "cell_type": "markdown",
   "id": "97e4cd9c-8ed8-4621-a61b-6c5b0f71c0ba",
   "metadata": {},
   "source": [
    "TODO: Write answer here"
   ]
  }
 ],
 "metadata": {
  "kernelspec": {
   "display_name": "Python 3 (ipykernel)",
   "language": "python",
   "name": "python3"
  },
  "language_info": {
   "codemirror_mode": {
    "name": "ipython",
    "version": 3
   },
   "file_extension": ".py",
   "mimetype": "text/x-python",
   "name": "python",
   "nbconvert_exporter": "python",
   "pygments_lexer": "ipython3",
   "version": "3.12.5"
  },
  "vscode": {
   "interpreter": {
    "hash": "369f2c481f4da34e4445cda3fffd2e751bd1c4d706f27375911949ba6bb62e1c"
   }
  }
 },
 "nbformat": 4,
 "nbformat_minor": 5
}
